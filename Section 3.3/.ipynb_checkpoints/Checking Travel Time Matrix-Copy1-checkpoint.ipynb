{
 "cells": [
  {
   "cell_type": "code",
   "execution_count": 1,
   "id": "e9205a14",
   "metadata": {},
   "outputs": [],
   "source": [
    "import networkx as nx\n",
    "import csv\n",
    "import math"
   ]
  },
  {
   "cell_type": "code",
   "execution_count": 4,
   "id": "09640240",
   "metadata": {},
   "outputs": [
    {
     "name": "stdout",
     "output_type": "stream",
     "text": [
      "Strongly connected components:\n",
      "{0, 1, 2, 3, 4, 5, 6, 7, 8, 9, 10, 11, 12, 13, 14, 15, 16, 17, 18, 19, 20, 21, 22, 23, 24, 25, 26, 27, 28, 29, 30, 31, 32, 33, 34, 35, 36, 37, 38, 39, 40, 41, 42, 43, 44, 45, 46, 47, 48, 49, 50, 51, 52, 53, 54, 55, 56, 57, 58, 59, 60, 61, 62, 63, 64, 65, 66, 67, 68, 69, 70, 71, 72, 73, 74, 75, 76, 77, 78, 79, 80, 81, 82, 83, 84, 85, 86, 87, 88, 89, 90, 91, 92, 93, 94, 95, 96, 97, 98, 99, 100, 101, 102, 103, 104, 105, 106, 107, 108, 109, 110, 111, 112, 113, 114, 115, 116, 117, 118, 119, 120, 121, 122, 123, 124, 125, 126, 127, 128, 129, 130, 131, 132, 133, 134, 135, 136, 137, 138, 139, 140, 141, 142, 143, 144, 145, 146, 147, 148, 149, 150, 151, 152, 153, 154, 155, 156, 157, 158, 159, 160, 161, 162, 163, 164, 165, 166, 167, 168, 169, 170, 171, 172, 173, 174, 175, 176, 177, 178, 179, 180, 181, 182, 183, 184, 185, 186, 187, 188, 189, 190, 191, 192, 193, 194, 195, 196, 197, 198, 199, 200, 201, 202, 203, 204, 205, 206, 207, 208, 209, 210, 211, 212, 213, 214, 215, 216, 217, 218, 219, 220, 221, 222, 223, 224}\n"
     ]
    }
   ],
   "source": [
    "# Read the matrix from the CSV file\n",
    "with open(\"C://Users//Owner//ICT5012 - Disseration//transit_learning-master//Checking_Routes//Checking_Airport_RoutesTravelTimes.csv\", 'r', newline='') as f:\n",
    "    reader = csv.reader(f)\n",
    "    raw_matrix = list(reader)\n",
    "\n",
    "n = len(raw_matrix)\n",
    "matrix = []\n",
    "for row in raw_matrix:\n",
    "    new_row = []\n",
    "    for val in row:\n",
    "        if val.strip().lower() == \"inf\":\n",
    "            new_row.append(float('inf'))\n",
    "        else:\n",
    "            new_row.append(float(val))\n",
    "    matrix.append(new_row)\n",
    "\n",
    "# Build a directed graph from the matrix\n",
    "G = nx.DiGraph()\n",
    "for i in range(n):\n",
    "    G.add_node(i)\n",
    "    for j in range(n):\n",
    "        if matrix[i][j] < float('inf'):\n",
    "            G.add_edge(i, j, weight=matrix[i][j])\n",
    "\n",
    "# Compute strongly connected components\n",
    "scc = list(nx.strongly_connected_components(G))\n",
    "print(\"Strongly connected components:\")\n",
    "for comp in scc:\n",
    "    print(comp)\n"
   ]
  },
  {
   "cell_type": "code",
   "execution_count": 5,
   "id": "c294edb1",
   "metadata": {},
   "outputs": [
    {
     "name": "stdout",
     "output_type": "stream",
     "text": [
      "Strongly connected components:\n",
      "{0, 1, 2, 3, 4, 5, 6, 7, 8, 9, 10, 11, 12, 13, 14, 15, 16, 17, 18, 19, 20, 21, 22, 23, 24, 25, 26, 27, 28, 29, 30, 31, 32, 33, 34, 35, 36, 37, 38, 39, 40, 41, 42, 43, 44, 45, 46, 47, 48, 49, 50, 51, 52, 53, 54, 55, 56, 57, 58, 59, 60, 61, 62, 63, 64, 65, 66, 67, 68, 69, 70, 71, 72, 73, 74, 75, 76, 77, 78, 79, 80, 81, 82, 83, 84, 85, 86, 87, 88, 89, 90, 91, 92, 93, 94, 95, 96, 97, 98, 99, 100, 101, 102, 103, 104, 105, 106, 107, 108, 109, 110, 111, 112, 113, 114, 115, 116, 117, 118, 119, 120, 121, 122, 123, 124, 125, 126, 127, 128, 129, 130, 131, 132, 133, 134, 135, 136, 137, 138, 139, 140, 141, 142, 143, 144, 145, 146, 147, 148, 149, 150, 151, 152, 153, 154, 155, 156, 157, 158, 159, 160, 161, 162, 163, 164, 165, 166, 167, 168, 169, 170, 171, 172, 173, 174, 175, 176, 177, 178, 179, 180, 181, 182, 183, 184, 185, 186, 187, 188, 189, 190, 191, 192, 193, 194, 195, 196, 197, 198, 199, 200, 201, 202, 203, 204, 205, 206, 207, 208, 209, 210, 211, 212, 213, 214, 215, 216, 217, 218, 219, 220, 221, 222, 223, 224, 225, 226, 227, 228, 229, 230, 231, 232, 233, 234, 235, 236, 237, 238, 239, 240, 241, 242, 243, 244, 245, 246, 247, 248, 249, 250, 251, 252, 253, 254, 255, 256, 257, 258, 259, 260, 261, 262, 263, 264, 265, 266, 267, 268, 269, 270, 271}\n"
     ]
    }
   ],
   "source": [
    "# Read the matrix from the CSV file\n",
    "with open(\"C://Users//Owner//ICT5012 - Disseration//transit_learning-master//Checking_Routes//Checking_Mater_Dei_North_RoutesTravelTimes.csv\", 'r', newline='') as f:\n",
    "    reader = csv.reader(f)\n",
    "    raw_matrix = list(reader)\n",
    "\n",
    "n = len(raw_matrix)\n",
    "matrix = []\n",
    "for row in raw_matrix:\n",
    "    new_row = []\n",
    "    for val in row:\n",
    "        if val.strip().lower() == \"inf\":\n",
    "            new_row.append(float('inf'))\n",
    "        else:\n",
    "            new_row.append(float(val))\n",
    "    matrix.append(new_row)\n",
    "\n",
    "# Build a directed graph from the matrix\n",
    "G = nx.DiGraph()\n",
    "for i in range(n):\n",
    "    G.add_node(i)\n",
    "    for j in range(n):\n",
    "        if matrix[i][j] < float('inf'):\n",
    "            G.add_edge(i, j, weight=matrix[i][j])\n",
    "\n",
    "# Compute strongly connected components\n",
    "scc = list(nx.strongly_connected_components(G))\n",
    "print(\"Strongly connected components:\")\n",
    "for comp in scc:\n",
    "    print(comp)\n"
   ]
  },
  {
   "cell_type": "code",
   "execution_count": 6,
   "id": "f4a43b73",
   "metadata": {},
   "outputs": [
    {
     "name": "stdout",
     "output_type": "stream",
     "text": [
      "Strongly connected components:\n",
      "{0, 1, 2, 3, 4, 5, 6, 7, 8, 9, 10, 11, 12, 13, 14, 15, 16, 17, 18, 19, 20, 21, 22, 23, 24, 25, 26, 27, 28, 29, 30, 31, 32, 33, 34, 35, 36, 37, 38, 39, 40, 41, 42, 43, 44, 45, 46, 47, 48, 49, 50, 51, 52, 53, 54, 55, 56, 57, 58, 59, 60, 61, 62, 63, 64, 65, 66, 67, 68, 69, 70, 71, 72, 73, 74, 75, 76, 77, 78, 79, 80, 81, 82, 83, 84, 85, 86, 87, 88, 89, 90, 91, 92, 93, 94, 95, 96, 97, 98, 99, 100, 101, 102, 103, 104, 105, 106, 107, 108, 109, 110, 111, 112, 113, 114, 115, 116, 117, 118, 119, 120, 121, 122, 123, 124, 125, 126, 127, 128, 129, 130, 131, 132, 133, 134, 135, 136, 137, 138, 139, 140, 141, 142, 143, 144, 145, 146, 147, 148, 149, 150, 151, 152, 153, 154, 155, 156, 157, 158, 159, 160, 161, 162, 163, 164, 165, 166, 167, 168, 169, 170, 171, 172, 173, 174, 175, 176, 177, 178, 179, 180, 181, 182, 183, 184, 185, 186, 187, 188, 189, 190, 191, 192, 193, 194, 195, 196, 197, 198, 199, 200, 201, 202, 203, 204, 205, 206, 207, 208, 209, 210, 211, 212, 213, 214, 215, 216, 217, 218, 219, 220, 221, 222, 223, 224, 225, 226, 227, 228, 229, 230, 231, 232, 233, 234, 235, 236, 237, 238, 239, 240, 241, 242, 243, 244, 245, 246, 247, 248, 249, 250, 251, 252, 253, 254, 255, 256, 257, 258, 259, 260, 261, 262, 263, 264, 265, 266, 267, 268, 269, 270, 271, 272, 273, 274, 275, 276, 277, 278, 279, 280, 281, 282, 283, 284, 285, 286, 287, 288, 289, 290, 291, 292, 293, 294, 295, 296, 297, 298, 299, 300, 301, 302, 303, 304, 305, 306, 307, 308, 309, 310, 311, 312, 313, 314, 315, 316, 317, 318, 319, 320, 321, 322}\n"
     ]
    }
   ],
   "source": [
    "# Read the matrix from the CSV file\n",
    "with open(\"C://Users//Owner//ICT5012 - Disseration//transit_learning-master//Checking_Routes//Checking_Mater_Dei_South_RoutesTravelTimes.csv\", 'r', newline='') as f:\n",
    "    reader = csv.reader(f)\n",
    "    raw_matrix = list(reader)\n",
    "\n",
    "n = len(raw_matrix)\n",
    "matrix = []\n",
    "for row in raw_matrix:\n",
    "    new_row = []\n",
    "    for val in row:\n",
    "        if val.strip().lower() == \"inf\":\n",
    "            new_row.append(float('inf'))\n",
    "        else:\n",
    "            new_row.append(float(val))\n",
    "    matrix.append(new_row)\n",
    "\n",
    "# Build a directed graph from the matrix\n",
    "G = nx.DiGraph()\n",
    "for i in range(n):\n",
    "    G.add_node(i)\n",
    "    for j in range(n):\n",
    "        if matrix[i][j] < float('inf'):\n",
    "            G.add_edge(i, j, weight=matrix[i][j])\n",
    "\n",
    "# Compute strongly connected components\n",
    "scc = list(nx.strongly_connected_components(G))\n",
    "print(\"Strongly connected components:\")\n",
    "for comp in scc:\n",
    "    print(comp)\n"
   ]
  },
  {
   "cell_type": "code",
   "execution_count": 7,
   "id": "68082167",
   "metadata": {},
   "outputs": [
    {
     "name": "stdout",
     "output_type": "stream",
     "text": [
      "Strongly connected components:\n",
      "{0, 1, 2, 3, 4, 5, 6, 7, 8, 9, 10, 11, 12, 13, 14, 15, 16, 17, 18, 19, 20, 21, 22, 23, 24, 25, 26, 27, 28, 29, 30, 31, 32, 33, 34, 35, 36, 37, 38, 39, 40, 41, 42, 43, 44, 45, 46, 47, 48, 49, 50, 51, 52, 53, 54, 55, 56, 57, 58, 59, 60, 61, 62, 63, 64, 65, 66, 67, 68, 69, 70, 71, 72, 73, 74, 75, 76, 77, 78, 79, 80, 81, 82, 83, 84, 85, 86, 87, 88, 89, 90, 91, 92, 93, 94, 95, 96, 97, 98, 99, 100, 101, 102, 103, 104, 105, 106, 107, 108, 109, 110, 111, 112, 113, 114, 115, 116, 117, 118, 119, 120, 121, 122, 123, 124, 125, 126, 127, 128, 129, 130, 131, 132, 133, 134, 135, 136, 137, 138, 139, 140, 141, 142, 143, 144, 145, 146, 147, 148, 149, 150, 151, 152, 153, 154, 155, 156, 157, 158, 159, 160, 161, 162, 163, 164, 165, 166, 167, 168, 169, 170, 171, 172, 173, 174, 175, 176, 177, 178, 179, 180, 181, 182, 183, 184, 185, 186, 187, 188, 189, 190, 191, 192, 193, 194, 195, 196, 197, 198, 199, 200, 201, 202, 203, 204, 205, 206, 207, 208, 209, 210, 211, 212, 213, 214, 215, 216, 217, 218, 219, 220, 221, 222, 223, 224, 225, 226, 227, 228, 229, 230, 231, 232, 233, 234, 235, 236, 237, 238, 239, 240, 241, 242, 243, 244, 245, 246, 247, 248, 249, 250, 251, 252, 253, 254, 255, 256, 257, 258, 259, 260, 261, 262, 263, 264, 265, 266, 267, 268, 269, 270, 271, 272, 273, 274, 275, 276, 277, 278, 279, 280, 281, 282, 283, 284, 285, 286, 287, 288, 289, 290, 291, 292, 293, 294, 295, 296, 297}\n"
     ]
    }
   ],
   "source": [
    "# Read the matrix from the CSV file\n",
    "with open(\"C://Users//Owner//ICT5012 - Disseration//transit_learning-master//Checking_Routes//Checking_Northern_Harbour_RoutesTravelTimes.csv\", 'r', newline='') as f:\n",
    "    reader = csv.reader(f)\n",
    "    raw_matrix = list(reader)\n",
    "\n",
    "n = len(raw_matrix)\n",
    "matrix = []\n",
    "for row in raw_matrix:\n",
    "    new_row = []\n",
    "    for val in row:\n",
    "        if val.strip().lower() == \"inf\":\n",
    "            new_row.append(float('inf'))\n",
    "        else:\n",
    "            new_row.append(float(val))\n",
    "    matrix.append(new_row)\n",
    "\n",
    "# Build a directed graph from the matrix\n",
    "G = nx.DiGraph()\n",
    "for i in range(n):\n",
    "    G.add_node(i)\n",
    "    for j in range(n):\n",
    "        if matrix[i][j] < float('inf'):\n",
    "            G.add_edge(i, j, weight=matrix[i][j])\n",
    "\n",
    "# Compute strongly connected components\n",
    "scc = list(nx.strongly_connected_components(G))\n",
    "print(\"Strongly connected components:\")\n",
    "for comp in scc:\n",
    "    print(comp)\n"
   ]
  },
  {
   "cell_type": "code",
   "execution_count": 8,
   "id": "e4eafbfb",
   "metadata": {},
   "outputs": [
    {
     "name": "stdout",
     "output_type": "stream",
     "text": [
      "Strongly connected components:\n",
      "{0, 1, 2, 3, 4, 5, 6, 7, 8, 9, 10, 11, 12, 13, 14, 15, 16, 17, 18, 19, 20, 21, 22, 23, 24, 25, 26, 27, 28, 29, 30, 31, 32, 33, 34, 35, 36, 37, 38, 39, 40, 41, 42, 43, 44, 45, 46, 47, 48, 49, 50, 51, 52, 53, 54, 55, 56, 57, 58, 59, 60, 61, 62, 63, 64, 65, 66, 67, 68, 69, 70, 71, 72, 73, 74, 75, 76, 77, 78, 79, 80, 81, 82, 83, 84, 85, 86, 87, 88, 89, 90, 91, 92, 93, 94, 95, 96, 97, 98, 99, 100, 101, 102, 103, 104, 105, 106, 107, 108, 109, 110, 111, 112, 113, 114, 115, 116, 117, 118, 119, 120, 121, 122, 123, 124, 125, 126, 127, 128, 129, 130, 131, 132, 133, 134, 135, 136, 137, 138, 139, 140, 141, 142, 143, 144, 145, 146, 147, 148, 149, 150, 151, 152, 153, 154, 155, 156, 157, 158, 159, 160, 161, 162, 163, 164, 165, 166, 167, 168, 169, 170, 171, 172, 173, 174, 175, 176, 177, 178, 179, 180, 181, 182, 183, 184, 185, 186, 187, 188, 189, 190, 191, 192, 193, 194, 195, 196, 197, 198, 199, 200, 201, 202, 203, 204, 205, 206, 207, 208, 209, 210, 211, 212, 213, 214, 215, 216, 217, 218, 219, 220, 221, 222, 223, 224, 225, 226, 227, 228, 229, 230, 231, 232, 233, 234, 235, 236, 237, 238, 239, 240, 241, 242, 243, 244, 245, 246, 247, 248, 249, 250, 251, 252, 253, 254, 255, 256, 257, 258, 259, 260, 261, 262, 263, 264, 265, 266, 267, 268, 269, 270, 271, 272, 273, 274, 275, 276, 277, 278, 279, 280, 281, 282, 283, 284, 285, 286, 287, 288, 289, 290, 291, 292, 293, 294, 295, 296, 297, 298, 299, 300, 301, 302, 303, 304, 305, 306, 307, 308, 309, 310, 311, 312, 313, 314, 315, 316, 317, 318, 319, 320, 321, 322, 323, 324, 325, 326, 327, 328, 329, 330, 331, 332, 333, 334, 335, 336, 337, 338, 339, 340, 341, 342, 343}\n"
     ]
    }
   ],
   "source": [
    "# Read the matrix from the CSV file\n",
    "with open(\"C://Users//Owner//ICT5012 - Disseration//transit_learning-master//Checking_Routes//Checking_Northern_RoutesTravelTimes.csv\", 'r', newline='') as f:\n",
    "    reader = csv.reader(f)\n",
    "    raw_matrix = list(reader)\n",
    "\n",
    "n = len(raw_matrix)\n",
    "matrix = []\n",
    "for row in raw_matrix:\n",
    "    new_row = []\n",
    "    for val in row:\n",
    "        if val.strip().lower() == \"inf\":\n",
    "            new_row.append(float('inf'))\n",
    "        else:\n",
    "            new_row.append(float(val))\n",
    "    matrix.append(new_row)\n",
    "\n",
    "# Build a directed graph from the matrix\n",
    "G = nx.DiGraph()\n",
    "for i in range(n):\n",
    "    G.add_node(i)\n",
    "    for j in range(n):\n",
    "        if matrix[i][j] < float('inf'):\n",
    "            G.add_edge(i, j, weight=matrix[i][j])\n",
    "\n",
    "# Compute strongly connected components\n",
    "scc = list(nx.strongly_connected_components(G))\n",
    "print(\"Strongly connected components:\")\n",
    "for comp in scc:\n",
    "    print(comp)\n"
   ]
  },
  {
   "cell_type": "code",
   "execution_count": 9,
   "id": "bf2931d6",
   "metadata": {},
   "outputs": [
    {
     "name": "stdout",
     "output_type": "stream",
     "text": [
      "Strongly connected components:\n",
      "{0, 1, 2, 3, 4, 5, 6, 7, 8, 9, 10, 11, 12, 13, 14, 15, 16, 17, 18, 19, 20, 21, 22, 23, 24, 25, 26, 27, 28, 29, 30, 31, 32, 33, 34, 35, 36, 37, 38, 39, 40, 41, 42, 43, 44, 45, 46, 47, 48, 49, 50, 51, 52, 53, 54, 55, 56, 57, 58, 59, 60, 61, 62, 63, 64, 65, 66, 67, 68, 69, 70, 71, 72, 73, 74, 75, 76, 77, 78, 79, 80, 81, 82, 83, 84, 85, 86, 87, 88, 89, 90, 91, 92, 93, 94, 95, 96, 97, 98, 99, 100, 101, 102, 103, 104, 105, 106, 107, 108, 109, 110, 111, 112, 113, 114, 115, 116, 117, 118, 119, 120, 121, 122, 123, 124, 125, 126, 127, 128, 129, 130, 131, 132, 133, 134, 135, 136, 137, 138, 139, 140, 141, 142, 143, 144, 145, 146, 147, 148, 149, 150, 151, 152, 153, 154, 155, 156, 157, 158, 159, 160, 161, 162, 163, 164, 165, 166, 167, 168, 169, 170, 171, 172, 173, 174, 175, 176, 177, 178, 179, 180, 181, 182, 183, 184, 185, 186, 187, 188, 189, 190, 191, 192, 193, 194, 195, 196, 197, 198, 199, 200, 201, 202, 203, 204, 205, 206, 207, 208, 209, 210, 211, 212, 213, 214, 215, 216, 217, 218, 219, 220, 221, 222, 223, 224, 225, 226, 227, 228, 229, 230, 231, 232, 233, 234, 235, 236, 237, 238, 239, 240, 241, 242, 243, 244, 245, 246, 247, 248, 249, 250, 251, 252, 253, 254, 255, 256, 257, 258, 259, 260, 261, 262, 263, 264, 265, 266, 267, 268, 269, 270, 271, 272, 273, 274, 275, 276, 277, 278, 279, 280, 281, 282, 283, 284, 285, 286, 287, 288, 289, 290, 291, 292, 293, 294, 295, 296, 297}\n"
     ]
    }
   ],
   "source": [
    "# Read the matrix from the CSV file\n",
    "with open(\"C://Users//Owner//ICT5012 - Disseration//transit_learning-master//Checking_Routes//Checking_South_Eastern_RoutesTravelTimes.csv\", 'r', newline='') as f:\n",
    "    reader = csv.reader(f)\n",
    "    raw_matrix = list(reader)\n",
    "\n",
    "n = len(raw_matrix)\n",
    "matrix = []\n",
    "for row in raw_matrix:\n",
    "    new_row = []\n",
    "    for val in row:\n",
    "        if val.strip().lower() == \"inf\":\n",
    "            new_row.append(float('inf'))\n",
    "        else:\n",
    "            new_row.append(float(val))\n",
    "    matrix.append(new_row)\n",
    "\n",
    "# Build a directed graph from the matrix\n",
    "G = nx.DiGraph()\n",
    "for i in range(n):\n",
    "    G.add_node(i)\n",
    "    for j in range(n):\n",
    "        if matrix[i][j] < float('inf'):\n",
    "            G.add_edge(i, j, weight=matrix[i][j])\n",
    "\n",
    "# Compute strongly connected components\n",
    "scc = list(nx.strongly_connected_components(G))\n",
    "print(\"Strongly connected components:\")\n",
    "for comp in scc:\n",
    "    print(comp)\n"
   ]
  },
  {
   "cell_type": "code",
   "execution_count": 10,
   "id": "d77cb172",
   "metadata": {},
   "outputs": [
    {
     "name": "stdout",
     "output_type": "stream",
     "text": [
      "Strongly connected components:\n",
      "{0, 1, 2, 3, 4, 5, 6, 7, 8, 9, 10, 11, 12, 13, 14, 15, 16, 17, 18, 19, 20, 21, 22, 23, 24, 25, 26, 27, 28, 29, 30, 31, 32, 33, 34, 35, 36, 37, 38, 39, 40, 41, 42, 43, 44, 45, 46, 47, 48, 49, 50, 51, 52, 53, 54, 55, 56, 57, 58, 59, 60, 61, 62, 63, 64, 65, 66, 67, 68, 69, 70, 71, 72, 73, 74, 75, 76, 77, 78, 79, 80, 81, 82, 83, 84, 85, 86, 87, 88, 89, 90, 91, 92, 93, 94, 95, 96, 97, 98, 99, 100, 101, 102, 103, 104, 105, 106, 107, 108, 109, 110, 111, 112, 113, 114, 115, 116, 117, 118, 119, 120, 121, 122, 123, 124, 125, 126, 127, 128, 129, 130, 131, 132, 133, 134, 135, 136, 137, 138, 139, 140, 141, 142, 143, 144, 145, 146, 147, 148, 149, 150, 151, 152, 153, 154, 155, 156, 157, 158, 159, 160, 161, 162, 163, 164, 165, 166, 167, 168, 169, 170, 171, 172, 173, 174, 175, 176, 177, 178, 179, 180, 181, 182, 183, 184, 185, 186, 187, 188, 189, 190, 191, 192, 193, 194, 195, 196, 197, 198, 199, 200, 201, 202, 203, 204, 205, 206, 207, 208, 209, 210, 211, 212, 213, 214, 215, 216, 217, 218, 219, 220, 221, 222, 223, 224, 225, 226, 227, 228, 229, 230, 231, 232, 233, 234, 235, 236, 237, 238, 239, 240, 241}\n"
     ]
    }
   ],
   "source": [
    "# Read the matrix from the CSV file\n",
    "with open(\"C://Users//Owner//ICT5012 - Disseration//transit_learning-master//Checking_Routes//Checking_Southern_Harbour_RoutesTravelTimes.csv\", 'r', newline='') as f:\n",
    "    reader = csv.reader(f)\n",
    "    raw_matrix = list(reader)\n",
    "\n",
    "n = len(raw_matrix)\n",
    "matrix = []\n",
    "for row in raw_matrix:\n",
    "    new_row = []\n",
    "    for val in row:\n",
    "        if val.strip().lower() == \"inf\":\n",
    "            new_row.append(float('inf'))\n",
    "        else:\n",
    "            new_row.append(float(val))\n",
    "    matrix.append(new_row)\n",
    "\n",
    "# Build a directed graph from the matrix\n",
    "G = nx.DiGraph()\n",
    "for i in range(n):\n",
    "    G.add_node(i)\n",
    "    for j in range(n):\n",
    "        if matrix[i][j] < float('inf'):\n",
    "            G.add_edge(i, j, weight=matrix[i][j])\n",
    "\n",
    "# Compute strongly connected components\n",
    "scc = list(nx.strongly_connected_components(G))\n",
    "print(\"Strongly connected components:\")\n",
    "for comp in scc:\n",
    "    print(comp)\n"
   ]
  },
  {
   "cell_type": "code",
   "execution_count": 11,
   "id": "e44a914e",
   "metadata": {},
   "outputs": [
    {
     "name": "stdout",
     "output_type": "stream",
     "text": [
      "Strongly connected components:\n",
      "{0, 1, 2, 3, 4, 5, 6, 7, 8, 9, 10, 11, 12, 13, 14, 15, 16, 17, 18, 19, 20, 21, 22, 23, 24, 25, 26, 27, 28, 29, 30, 31, 32, 33, 34, 35, 36, 37, 38, 39, 40, 41, 42, 43, 44, 45, 46, 47, 48, 49, 50, 51, 52, 53, 54, 55, 56, 57, 58, 59, 60, 61, 62, 63, 64, 65, 66, 67, 68, 69, 70, 71, 72, 73, 74, 75, 76, 77, 78, 79, 80, 81, 82, 83, 84, 85, 86, 87, 88, 89, 90, 91, 92, 93, 94, 95, 96, 97, 98, 99, 100, 101, 102, 103, 104, 105, 106, 107, 108, 109, 110, 111, 112, 113, 114, 115, 116, 117, 118, 119, 120, 121, 122, 123, 124, 125, 126, 127, 128, 129, 130, 131, 132, 133, 134, 135, 136, 137, 138, 139, 140, 141, 142, 143, 144, 145, 146, 147, 148, 149, 150, 151, 152, 153, 154, 155, 156, 157, 158, 159, 160, 161, 162, 163, 164, 165, 166, 167, 168, 169, 170, 171, 172, 173, 174, 175, 176, 177, 178, 179, 180, 181, 182, 183, 184, 185, 186, 187, 188, 189, 190, 191, 192, 193, 194, 195, 196, 197, 198, 199, 200, 201, 202, 203, 204, 205, 206, 207, 208, 209, 210, 211, 212, 213, 214, 215, 216, 217, 218, 219, 220, 221, 222, 223, 224, 225, 226, 227, 228, 229, 230, 231, 232, 233, 234, 235, 236, 237, 238, 239, 240, 241, 242, 243, 244, 245, 246, 247, 248, 249, 250, 251, 252, 253, 254, 255, 256, 257, 258, 259, 260, 261, 262, 263, 264, 265, 266, 267, 268, 269, 270, 271, 272, 273, 274, 275, 276, 277, 278, 279, 280, 281, 282, 283, 284, 285, 286, 287, 288, 289, 290, 291, 292, 293, 294, 295, 296, 297, 298, 299, 300, 301, 302, 303, 304, 305, 306, 307, 308, 309, 310, 311, 312, 313, 314, 315, 316, 317, 318, 319, 320, 321, 322, 323, 324, 325, 326, 327, 328, 329, 330}\n"
     ]
    }
   ],
   "source": [
    "# Read the matrix from the CSV file\n",
    "with open(\"C://Users//Owner//ICT5012 - Disseration//transit_learning-master//Checking_Routes//Checking_Western_RoutesTravelTimes.csv\", 'r', newline='') as f:\n",
    "    reader = csv.reader(f)\n",
    "    raw_matrix = list(reader)\n",
    "\n",
    "n = len(raw_matrix)\n",
    "matrix = []\n",
    "for row in raw_matrix:\n",
    "    new_row = []\n",
    "    for val in row:\n",
    "        if val.strip().lower() == \"inf\":\n",
    "            new_row.append(float('inf'))\n",
    "        else:\n",
    "            new_row.append(float(val))\n",
    "    matrix.append(new_row)\n",
    "\n",
    "# Build a directed graph from the matrix\n",
    "G = nx.DiGraph()\n",
    "for i in range(n):\n",
    "    G.add_node(i)\n",
    "    for j in range(n):\n",
    "        if matrix[i][j] < float('inf'):\n",
    "            G.add_edge(i, j, weight=matrix[i][j])\n",
    "\n",
    "# Compute strongly connected components\n",
    "scc = list(nx.strongly_connected_components(G))\n",
    "print(\"Strongly connected components:\")\n",
    "for comp in scc:\n",
    "    print(comp)\n"
   ]
  },
  {
   "cell_type": "code",
   "execution_count": 12,
   "id": "9803ec46",
   "metadata": {},
   "outputs": [
    {
     "name": "stdout",
     "output_type": "stream",
     "text": [
      "Strongly connected components:\n",
      "{0, 1, 2, 3, 4, 5, 6, 7, 8, 9, 10, 11, 12, 13, 14, 15, 16, 17, 18, 19, 20, 21, 22, 23, 24, 25, 26, 27, 28, 29, 30, 31, 32, 33, 34, 35, 36, 37, 38, 39, 40, 41, 42, 43, 44, 45, 46, 47, 48, 49, 50, 51, 52, 53, 54, 55, 56, 57, 58, 59, 60, 61, 62, 63, 64, 65, 66, 67, 68, 69, 70, 71, 72, 73, 74, 75, 76, 77, 78, 79, 80, 81, 82, 83, 84, 85, 86, 87, 88, 89, 90, 91, 92, 93, 94, 95, 96, 97, 98, 99, 100, 101, 102, 103, 104, 105, 106, 107, 108, 109, 110, 111, 112, 113, 114, 115, 116, 117, 118, 119, 120, 121, 122, 123, 124, 125, 126, 127, 128, 129, 130, 131, 132, 133, 134, 135, 136, 137, 138, 139, 140, 141, 142, 143, 144, 145, 146, 147, 148, 149, 150, 151, 152, 153, 154, 155, 156, 157, 158, 159, 160, 161, 162, 163, 164, 165, 166, 167, 168, 169, 170, 171, 172, 173, 174, 175, 176, 177, 178, 179, 180, 181, 182, 183, 184, 185, 186, 187, 188, 189, 190, 191, 192, 193, 194, 195, 196, 197, 198, 199, 200, 201, 202, 203, 204, 205, 206, 207, 208, 209, 210, 211, 212, 213, 214, 215, 216, 217, 218, 219, 220, 221, 222, 223, 224, 225, 226, 227, 228, 229, 230, 231, 232, 233, 234, 235, 236, 237, 238, 239, 240, 241, 242, 243, 244, 245, 246}\n"
     ]
    }
   ],
   "source": [
    "# Read the matrix from the CSV file\n",
    "with open(\"C://Users//Owner//ICT5012 - Disseration//transit_learning-master//Checking_Routes//Checking_Gozo_RoutesTravelTimes.csv\", 'r', newline='') as f:\n",
    "    reader = csv.reader(f)\n",
    "    raw_matrix = list(reader)\n",
    "\n",
    "n = len(raw_matrix)\n",
    "matrix = []\n",
    "for row in raw_matrix:\n",
    "    new_row = []\n",
    "    for val in row:\n",
    "        if val.strip().lower() == \"inf\":\n",
    "            new_row.append(float('inf'))\n",
    "        else:\n",
    "            new_row.append(float(val))\n",
    "    matrix.append(new_row)\n",
    "\n",
    "# Build a directed graph from the matrix\n",
    "G = nx.DiGraph()\n",
    "for i in range(n):\n",
    "    G.add_node(i)\n",
    "    for j in range(n):\n",
    "        if matrix[i][j] < float('inf'):\n",
    "            G.add_edge(i, j, weight=matrix[i][j])\n",
    "\n",
    "# Compute strongly connected components\n",
    "scc = list(nx.strongly_connected_components(G))\n",
    "print(\"Strongly connected components:\")\n",
    "for comp in scc:\n",
    "    print(comp)\n"
   ]
  },
  {
   "cell_type": "code",
   "execution_count": null,
   "id": "1c263425",
   "metadata": {},
   "outputs": [],
   "source": []
  }
 ],
 "metadata": {
  "kernelspec": {
   "display_name": "Python 3 (ipykernel)",
   "language": "python",
   "name": "python3"
  },
  "language_info": {
   "codemirror_mode": {
    "name": "ipython",
    "version": 3
   },
   "file_extension": ".py",
   "mimetype": "text/x-python",
   "name": "python",
   "nbconvert_exporter": "python",
   "pygments_lexer": "ipython3",
   "version": "3.9.13"
  }
 },
 "nbformat": 4,
 "nbformat_minor": 5
}
